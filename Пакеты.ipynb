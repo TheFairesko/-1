{
  "cells": [
    {
      "cell_type": "markdown",
      "metadata": {
        "id": "view-in-github",
        "colab_type": "text"
      },
      "source": [
        "<a href=\"https://colab.research.google.com/github/TheFairesko/-1/blob/main/%D0%9F%D0%B0%D0%BA%D0%B5%D1%82%D1%8B.ipynb\" target=\"_parent\"><img src=\"https://colab.research.google.com/assets/colab-badge.svg\" alt=\"Open In Colab\"/></a>"
      ]
    },
    {
      "cell_type": "code",
      "execution_count": null,
      "metadata": {
        "colab": {
          "base_uri": "https://localhost:8080/",
          "height": 356
        },
        "id": "kP6sRZ8Wm_Fq",
        "outputId": "4c7a8154-dd39-4829-8ac5-f0897eb4f4bc"
      },
      "outputs": [
        {
          "output_type": "error",
          "ename": "TypeError",
          "evalue": "ignored",
          "traceback": [
            "\u001b[0;31m---------------------------------------------------------------------------\u001b[0m",
            "\u001b[0;31mTypeError\u001b[0m                                 Traceback (most recent call last)",
            "\u001b[0;32m<ipython-input-13-69f674692b41>\u001b[0m in \u001b[0;36m<module>\u001b[0;34m()\u001b[0m\n\u001b[1;32m      1\u001b[0m \u001b[0;32mimport\u001b[0m \u001b[0mmatplotlib\u001b[0m\u001b[0;34m.\u001b[0m\u001b[0mpyplot\u001b[0m \u001b[0;32mas\u001b[0m \u001b[0mplt\u001b[0m\u001b[0;34m\u001b[0m\u001b[0;34m\u001b[0m\u001b[0m\n\u001b[1;32m      2\u001b[0m \u001b[0;32mfrom\u001b[0m \u001b[0mmath\u001b[0m \u001b[0;32mimport\u001b[0m \u001b[0;34m*\u001b[0m\u001b[0;34m\u001b[0m\u001b[0;34m\u001b[0m\u001b[0m\n\u001b[0;32m----> 3\u001b[0;31m \u001b[0mtemperature\u001b[0m\u001b[0;34m=\u001b[0m\u001b[0;34m[\u001b[0m\u001b[0matan\u001b[0m\u001b[0;34m(\u001b[0m\u001b[0;34m-\u001b[0m\u001b[0;36m0.0012\u001b[0m\u001b[0;34m*\u001b[0m\u001b[0mt\u001b[0m\u001b[0;34m^\u001b[0m\u001b[0;36m3\u001b[0m\u001b[0;34m+\u001b[0m\u001b[0;36m0.4\u001b[0m\u001b[0;34m*\u001b[0m\u001b[0mt\u001b[0m\u001b[0;34m^\u001b[0m\u001b[0;36m2\u001b[0m\u001b[0;34m+\u001b[0m\u001b[0;36m0.616\u001b[0m\u001b[0;34m*\u001b[0m\u001b[0mt\u001b[0m\u001b[0;34m+\u001b[0m\u001b[0;36m6120\u001b[0m\u001b[0;34m)\u001b[0m\u001b[0;34m+\u001b[0m\u001b[0;36m0.65\u001b[0m\u001b[0;34m*\u001b[0m\u001b[0msin\u001b[0m\u001b[0;34m(\u001b[0m\u001b[0;36m0.24\u001b[0m\u001b[0;34m*\u001b[0m\u001b[0mt\u001b[0m\u001b[0;34m+\u001b[0m\u001b[0;36m1.23\u001b[0m\u001b[0;34m)\u001b[0m\u001b[0;34m-\u001b[0m\u001b[0;36m0.27\u001b[0m\u001b[0;34m*\u001b[0m\u001b[0mcos\u001b[0m\u001b[0;34m(\u001b[0m\u001b[0;36m0.21\u001b[0m\u001b[0;34m*\u001b[0m\u001b[0mt\u001b[0m\u001b[0;34m-\u001b[0m\u001b[0;36m0.17\u001b[0m\u001b[0;34m)\u001b[0m\u001b[0;34m-\u001b[0m\u001b[0;34m(\u001b[0m\u001b[0msin\u001b[0m\u001b[0;34m(\u001b[0m\u001b[0;36m0.34\u001b[0m\u001b[0;34m*\u001b[0m\u001b[0mt\u001b[0m\u001b[0;34m+\u001b[0m\u001b[0;36m0.16\u001b[0m\u001b[0;34m)\u001b[0m\u001b[0;34m)\u001b[0m\u001b[0;34m/\u001b[0m\u001b[0;34m(\u001b[0m\u001b[0;36m1\u001b[0m\u001b[0;34m+\u001b[0m\u001b[0;36m0.03\u001b[0m\u001b[0;34m*\u001b[0m\u001b[0;34m(\u001b[0m\u001b[0mt\u001b[0m\u001b[0;34m-\u001b[0m\u001b[0;36m370.5\u001b[0m\u001b[0;34m)\u001b[0m\u001b[0;34m^\u001b[0m\u001b[0;36m2\u001b[0m\u001b[0;34m)\u001b[0m \u001b[0;32mfor\u001b[0m \u001b[0mt\u001b[0m \u001b[0;32min\u001b[0m \u001b[0mrange\u001b[0m\u001b[0;34m(\u001b[0m\u001b[0;36m0\u001b[0m\u001b[0;34m,\u001b[0m\u001b[0;36m1000\u001b[0m\u001b[0;34m)\u001b[0m\u001b[0;34m]\u001b[0m\u001b[0;34m\u001b[0m\u001b[0;34m\u001b[0m\u001b[0m\n\u001b[0m\u001b[1;32m      4\u001b[0m \u001b[0mplt\u001b[0m\u001b[0;34m.\u001b[0m\u001b[0mhist\u001b[0m\u001b[0;34m(\u001b[0m\u001b[0mrange\u001b[0m\u001b[0;34m(\u001b[0m\u001b[0;36m0\u001b[0m\u001b[0;34m,\u001b[0m\u001b[0;36m1000\u001b[0m\u001b[0;34m)\u001b[0m\u001b[0;34m,\u001b[0m\u001b[0mweights\u001b[0m\u001b[0;34m=\u001b[0m\u001b[0mtemperature\u001b[0m\u001b[0;34m)\u001b[0m\u001b[0;34m\u001b[0m\u001b[0;34m\u001b[0m\u001b[0m\n",
            "\u001b[0;32m<ipython-input-13-69f674692b41>\u001b[0m in \u001b[0;36m<listcomp>\u001b[0;34m(.0)\u001b[0m\n\u001b[1;32m      1\u001b[0m \u001b[0;32mimport\u001b[0m \u001b[0mmatplotlib\u001b[0m\u001b[0;34m.\u001b[0m\u001b[0mpyplot\u001b[0m \u001b[0;32mas\u001b[0m \u001b[0mplt\u001b[0m\u001b[0;34m\u001b[0m\u001b[0;34m\u001b[0m\u001b[0m\n\u001b[1;32m      2\u001b[0m \u001b[0;32mfrom\u001b[0m \u001b[0mmath\u001b[0m \u001b[0;32mimport\u001b[0m \u001b[0;34m*\u001b[0m\u001b[0;34m\u001b[0m\u001b[0;34m\u001b[0m\u001b[0m\n\u001b[0;32m----> 3\u001b[0;31m \u001b[0mtemperature\u001b[0m\u001b[0;34m=\u001b[0m\u001b[0;34m[\u001b[0m\u001b[0matan\u001b[0m\u001b[0;34m(\u001b[0m\u001b[0;34m-\u001b[0m\u001b[0;36m0.0012\u001b[0m\u001b[0;34m*\u001b[0m\u001b[0mt\u001b[0m\u001b[0;34m^\u001b[0m\u001b[0;36m3\u001b[0m\u001b[0;34m+\u001b[0m\u001b[0;36m0.4\u001b[0m\u001b[0;34m*\u001b[0m\u001b[0mt\u001b[0m\u001b[0;34m^\u001b[0m\u001b[0;36m2\u001b[0m\u001b[0;34m+\u001b[0m\u001b[0;36m0.616\u001b[0m\u001b[0;34m*\u001b[0m\u001b[0mt\u001b[0m\u001b[0;34m+\u001b[0m\u001b[0;36m6120\u001b[0m\u001b[0;34m)\u001b[0m\u001b[0;34m+\u001b[0m\u001b[0;36m0.65\u001b[0m\u001b[0;34m*\u001b[0m\u001b[0msin\u001b[0m\u001b[0;34m(\u001b[0m\u001b[0;36m0.24\u001b[0m\u001b[0;34m*\u001b[0m\u001b[0mt\u001b[0m\u001b[0;34m+\u001b[0m\u001b[0;36m1.23\u001b[0m\u001b[0;34m)\u001b[0m\u001b[0;34m-\u001b[0m\u001b[0;36m0.27\u001b[0m\u001b[0;34m*\u001b[0m\u001b[0mcos\u001b[0m\u001b[0;34m(\u001b[0m\u001b[0;36m0.21\u001b[0m\u001b[0;34m*\u001b[0m\u001b[0mt\u001b[0m\u001b[0;34m-\u001b[0m\u001b[0;36m0.17\u001b[0m\u001b[0;34m)\u001b[0m\u001b[0;34m-\u001b[0m\u001b[0;34m(\u001b[0m\u001b[0msin\u001b[0m\u001b[0;34m(\u001b[0m\u001b[0;36m0.34\u001b[0m\u001b[0;34m*\u001b[0m\u001b[0mt\u001b[0m\u001b[0;34m+\u001b[0m\u001b[0;36m0.16\u001b[0m\u001b[0;34m)\u001b[0m\u001b[0;34m)\u001b[0m\u001b[0;34m/\u001b[0m\u001b[0;34m(\u001b[0m\u001b[0;36m1\u001b[0m\u001b[0;34m+\u001b[0m\u001b[0;36m0.03\u001b[0m\u001b[0;34m*\u001b[0m\u001b[0;34m(\u001b[0m\u001b[0mt\u001b[0m\u001b[0;34m-\u001b[0m\u001b[0;36m370.5\u001b[0m\u001b[0;34m)\u001b[0m\u001b[0;34m^\u001b[0m\u001b[0;36m2\u001b[0m\u001b[0;34m)\u001b[0m \u001b[0;32mfor\u001b[0m \u001b[0mt\u001b[0m \u001b[0;32min\u001b[0m \u001b[0mrange\u001b[0m\u001b[0;34m(\u001b[0m\u001b[0;36m0\u001b[0m\u001b[0;34m,\u001b[0m\u001b[0;36m1000\u001b[0m\u001b[0;34m)\u001b[0m\u001b[0;34m]\u001b[0m\u001b[0;34m\u001b[0m\u001b[0;34m\u001b[0m\u001b[0m\n\u001b[0m\u001b[1;32m      4\u001b[0m \u001b[0mplt\u001b[0m\u001b[0;34m.\u001b[0m\u001b[0mhist\u001b[0m\u001b[0;34m(\u001b[0m\u001b[0mrange\u001b[0m\u001b[0;34m(\u001b[0m\u001b[0;36m0\u001b[0m\u001b[0;34m,\u001b[0m\u001b[0;36m1000\u001b[0m\u001b[0;34m)\u001b[0m\u001b[0;34m,\u001b[0m\u001b[0mweights\u001b[0m\u001b[0;34m=\u001b[0m\u001b[0mtemperature\u001b[0m\u001b[0;34m)\u001b[0m\u001b[0;34m\u001b[0m\u001b[0;34m\u001b[0m\u001b[0m\n",
            "\u001b[0;31mTypeError\u001b[0m: unsupported operand type(s) for ^: 'float' and 'float'"
          ]
        }
      ],
      "source": [
        "import matplotlib.pyplot as plt\n",
        "from math import *\n",
        "temperature=[atan(-0.0012*t^3+0.4*t^2+0.616*t+6120)+0.65*sin(0.24*t+1.23)-0.27*cos(0.21*t-0.17)-(sin(0.34*t+0.16))/(1+0.03*(t-370.5)^2) for t in range(0,1000)]\n",
        "plt.hist(range(0,1000),weights=temperature)\n"
      ]
    },
    {
      "cell_type": "code",
      "source": [
        "import numpy as np\n",
        "numpy lialg\n",
        "numpy random\n",
        "numpy fft\n",
        "numpy.ndarray\n",
        "\n",
        "ndarray.ndim\n",
        "ndarray.shape\n",
        "ndarray.size\n",
        "ndarray.dtype\n",
        "ndarray.itemsize\n",
        "\n",
        "help(\"numpy\")\n"
      ],
      "metadata": {
        "id": "5of1lCSQf8Y2"
      },
      "execution_count": null,
      "outputs": []
    },
    {
      "cell_type": "code",
      "source": [
        "import numpy as np\n",
        "A=np.array([0,1,5,2,6,2])\n",
        "print(A,type(A))"
      ],
      "metadata": {
        "colab": {
          "base_uri": "https://localhost:8080/"
        },
        "id": "eGcRxrVJhz24",
        "outputId": "e820832b-a171-4cb9-eab9-b220ecdd2877"
      },
      "execution_count": null,
      "outputs": [
        {
          "output_type": "stream",
          "name": "stdout",
          "text": [
            "[0 1 5 2 6 2] <class 'numpy.ndarray'>\n"
          ]
        }
      ]
    },
    {
      "cell_type": "code",
      "source": [
        "import numpy as np\n",
        "B=np.array(([5,2],[6,3]),dtype=float)\n",
        "print(B)"
      ],
      "metadata": {
        "colab": {
          "base_uri": "https://localhost:8080/"
        },
        "id": "kuJM2tMIjGdH",
        "outputId": "27254b9d-db16-414d-ff1a-661e19070ccf"
      },
      "execution_count": null,
      "outputs": [
        {
          "output_type": "stream",
          "name": "stdout",
          "text": [
            "[[5. 2.]\n",
            " [6. 3.]]\n"
          ]
        }
      ]
    },
    {
      "cell_type": "markdown",
      "source": [
        "# Новый раздел"
      ],
      "metadata": {
        "id": "aUcTVC6YjvYG"
      }
    },
    {
      "cell_type": "code",
      "source": [
        "import numpy as np\n",
        "np.arange(3,10,0.2)\n",
        "\n",
        "np.linspace(3,10,5)\n",
        "x,y=np.mgrid[0:5,0:5]\n",
        "x\n",
        "y\n",
        "\n",
        "r=np.random.rand(5,5)\n",
        "r\n",
        "\n",
        "np.diag([1,3,1])\n",
        "np.diag([1,3,1],k=-1)\n",
        "np.zeros(10)\n",
        "np.ones((5,5))\n",
        "\n",
        "#data=numpy.genfromtxt('stockgolm_temp.dat')\n",
        "\n",
        "#фото\n",
        "\n",
        "M=np.random.rand(3,3)\n",
        "np.savetxt(\"random.matrix.csv\",M)\n",
        "\n",
        "A=np.array([[1,4,5],[4,6,7]])\n",
        "print(A[1,:])\n",
        "print(A[1,2])\n",
        "A[0:4:2]\n",
        "A[-3:]\n",
        "\n",
        "B=np.array([n for n in range(5)])\n",
        "print(B)\n",
        "row_musk=np.array([True,False,True,False,False])\n",
        "B[row_musk]_\n",
        "\n",
        "#indices=np.where(musk)\n",
        "\n",
        "#v.take(indices)\n",
        "\n",
        "A=np.array([[1,2,3],[4,5,6]])\n",
        "B=A.copy()[:,::-1]\n",
        "print(B)"
      ],
      "metadata": {
        "colab": {
          "base_uri": "https://localhost:8080/"
        },
        "id": "6opLPB1Wjx_s",
        "outputId": "3d950481-2531-483a-eb2a-aaa2c1a719f1"
      },
      "execution_count": null,
      "outputs": [
        {
          "output_type": "stream",
          "name": "stdout",
          "text": [
            "[4 6 7]\n",
            "7\n",
            "[0 1 2 3 4]\n",
            "[[3 2 1]\n",
            " [6 5 4]]\n"
          ]
        }
      ]
    },
    {
      "cell_type": "code",
      "source": [
        "import numpy as np\n",
        "mass1=[]\n",
        "mass2=[]\n",
        "first=0\n",
        "second=1\n",
        "f=open('books_for_lib.txt','r')\n",
        "for line in f:\n",
        "  mass1.append(line)\n",
        "for line in mass1:\n",
        "  while len(line)>0 and first!=second+1:\n",
        "    first=line.find('\\'')\n",
        "    second=(line[first+1:]).find('\\'')\n",
        "    word=line[first+1:second+1]\n",
        "    mass2.append(word)\n",
        "    line=line[second+1:]\n",
        "f.close()\n",
        "#mass2"
      ],
      "metadata": {
        "id": "aBmZSdhmurmr"
      },
      "execution_count": null,
      "outputs": []
    },
    {
      "cell_type": "code",
      "source": [
        "A=np.arange(1,5)\n",
        "B=np.log(A)\n",
        "print(B)\n",
        "np.dot(A,A)\n",
        "M=np.matrix(A)\n",
        "#.sum min max mean\n",
        "#np.quantile(salaries,0.75)\n",
        "#np.unique(data[:,1])"
      ],
      "metadata": {
        "id": "Fnr-fZiWzCjJ",
        "colab": {
          "base_uri": "https://localhost:8080/"
        },
        "outputId": "8dbc6a3b-e1de-4cbf-94cc-e1abfb095183"
      },
      "execution_count": null,
      "outputs": [
        {
          "output_type": "stream",
          "name": "stdout",
          "text": [
            "[0.         0.69314718 1.09861229 1.38629436]\n"
          ]
        },
        {
          "output_type": "execute_result",
          "data": {
            "text/plain": [
              "30"
            ]
          },
          "metadata": {},
          "execution_count": 63
        }
      ]
    },
    {
      "cell_type": "markdown",
      "source": [
        "# Новый раздел"
      ],
      "metadata": {
        "id": "6z6KM5BMhSfA"
      }
    },
    {
      "cell_type": "code",
      "source": [
        "#распределение средних температур по месяцам\n",
        "#изменение средней температуры за апрель по годам\n",
        "import matplotlib.pyplot as plt\n",
        "import numpy as np\n",
        "data=np.genfromtxt('stockholm_tmp.dat')\n",
        "month=np.arange(1,13)\n",
        "mid=[]\n",
        "un=np.unique(data[:,1])\n",
        "for i in range(1,13):\n",
        "  mask=data[:,1]==i\n",
        "  mid.append(np.mean(data[mask,3]))\n",
        "plt.bar(month,mid)\n",
        "uniq_year=np.unique(data[:,0])\n",
        "mask2=data[:,1]==4\n",
        "mid_april=[]\n",
        "mid2=[]\n",
        "for i in uniq_year:\n",
        "  mask=data[:,0]==i\n",
        "  for j in range(len(mask)):\n",
        "    mask[j]=~(mask[j] & mask2[j])\n",
        "  mid2.append(np.mean(data[mask,3]))\n",
        "plt.bar(uniq_years,mid2)\n",
        "\n",
        "\n",
        "\n",
        "\n",
        "\n"
      ],
      "metadata": {
        "id": "KKGFT8-uiSjm"
      },
      "execution_count": null,
      "outputs": []
    },
    {
      "cell_type": "code",
      "source": [
        "import numpy as np \n",
        "import pandas as pd\n",
        "import matplotlib.pyplot as plt\n",
        "import seaborn as sns\n",
        "normal_sample=np.random.normal(loc=0.0, scale=1.0,size=10000)\n",
        "random_sample=np.random.random(size=10000)\n",
        "gamma_sample=np.random.gamma(2,size=10000)\n",
        "df=pd.DataFrame({'normal': normal_sample,\n",
        "                 'random': random_sample,\n",
        "                 'gamma': gamma_sample})\n",
        "df.head()\n",
        "df.describe()\n",
        "plt.figure()\n",
        "#_ = plt.boxplot(df['normal'], whis=[0,100])\n",
        "_ = plt.boxplot([df['normal'],df['random'],df['gamma']], whis=[0,100])\n",
        "\n",
        "\n",
        "#сводные таблицы жив/мёртв мужчина/женщина, 2 таблица - жив/мёртв в каждом классе\n",
        "#боксплот выжившие мужчины, женщины по возрастам\n"
      ],
      "metadata": {
        "colab": {
          "base_uri": "https://localhost:8080/",
          "height": 265
        },
        "id": "o5D28bidpLLx",
        "outputId": "b10a1224-4e60-4037-8a68-899b267692d9"
      },
      "execution_count": null,
      "outputs": [
        {
          "output_type": "display_data",
          "data": {
            "text/plain": [
              "<Figure size 432x288 with 1 Axes>"
            ],
            "image/png": "[encoded data removed]"
          },
          "metadata": {
            "needs_background": "light"
          }
        }
      ]
    },
    {
      "cell_type": "code",
      "source": [
        "import numpy as np\n",
        "import pandas as pd\n",
        "data = pd.read_csv('titanic.csv')\n",
        "print(data.isnull().sum())\n",
        "group = pd.DataFrame(data, columns=['SibSp', 'Parch'])\n",
        "data['Relatives'] = data[['SibSp','Parch']].sum(axis=1)\n",
        "group = pd.DataFrame(data, columns=['SibSp', 'Parch'])\n",
        "data['Relatives'] = group.any(axis = 1)\n",
        "group = pd.DataFrame(data, columns=['SibSp', 'Parch', 'Relatives'])\n",
        "print(group)\n",
        "male = data['Sex'].value_counts()\n",
        "print(male)\n",
        "data.loc[(data['Pclass'] == 1), 'Pclass'] = 'elite'\n",
        "data.loc[(data['Pclass'] == 2), 'Pclass'] = 'middle'\n",
        "data.loc[(data['Pclass'] == 3), 'Pclass'] = 'redneck'\n",
        "print(data['Pclass'])\n",
        "data['Fare_bin'] = data['Fare']\n",
        "data.loc[(data['Fare'] < 20), 'Fare_bin'] = 'Дешево'\n",
        "data.loc[(data['Fare'] >= 20), 'Fare_bin'] = 'Дорого'\n",
        "print(data['Fare_bin'])\n",
        "print(data['Fare_bin'].value_counts())"
      ],
      "metadata": {
        "id": "aB_0cezACSGw"
      },
      "execution_count": null,
      "outputs": []
    },
    {
      "cell_type": "code",
      "source": [
        "import numpy as np\n",
        "import pandas as pd\n",
        "data = pd.read_csv('titanic.csv')\n",
        "\n",
        "group = pd.DataFrame(data, columns=['Sex', 'Survived'])\n",
        "print(group)\n",
        "male=pd.pivot_table(group,index=['Sex'],columns=['Survived'],values=['Survived'],aggfunc=len)\n",
        "print(male)\n",
        "\n",
        "group = pd.DataFrame(data, columns=['Pclass', 'Survived'])\n",
        "print(group)\n",
        "male=pd.pivot_table(group,index=['Pclass'],columns=['Survived'],values=['Pclass'],aggfunc=len)\n",
        "print(male)\n",
        "\n",
        "group = pd.DataFrame(data, columns=['Sex', 'Age'])\n",
        "print(group)\n",
        "print('******')\n",
        "print(data.loc[(data['Sex'] == 'male')])\n",
        "\n",
        "_ = plt.boxplot([df['normal'],df['random'],df['gamma']], whis=[0,100])"
      ],
      "metadata": {
        "colab": {
          "base_uri": "https://localhost:8080/",
          "height": 414
        },
        "id": "9Yh43Rhivep9",
        "outputId": "80bca1d7-8b59-4f85-f169-e3a5257024d3"
      },
      "execution_count": null,
      "outputs": [
        {
          "output_type": "error",
          "ename": "FileNotFoundError",
          "evalue": "ignored",
          "traceback": [
            "\u001b[0;31m---------------------------------------------------------------------------\u001b[0m",
            "\u001b[0;31mFileNotFoundError\u001b[0m                         Traceback (most recent call last)",
            "\u001b[0;32m<ipython-input-1-2a7fa81b9ddf>\u001b[0m in \u001b[0;36m<module>\u001b[0;34m()\u001b[0m\n\u001b[1;32m      1\u001b[0m \u001b[0;32mimport\u001b[0m \u001b[0mnumpy\u001b[0m \u001b[0;32mas\u001b[0m \u001b[0mnp\u001b[0m\u001b[0;34m\u001b[0m\u001b[0;34m\u001b[0m\u001b[0m\n\u001b[1;32m      2\u001b[0m \u001b[0;32mimport\u001b[0m \u001b[0mpandas\u001b[0m \u001b[0;32mas\u001b[0m \u001b[0mpd\u001b[0m\u001b[0;34m\u001b[0m\u001b[0;34m\u001b[0m\u001b[0m\n\u001b[0;32m----> 3\u001b[0;31m \u001b[0mdata\u001b[0m \u001b[0;34m=\u001b[0m \u001b[0mpd\u001b[0m\u001b[0;34m.\u001b[0m\u001b[0mread_csv\u001b[0m\u001b[0;34m(\u001b[0m\u001b[0;34m'titanic.csv'\u001b[0m\u001b[0;34m)\u001b[0m\u001b[0;34m\u001b[0m\u001b[0;34m\u001b[0m\u001b[0m\n\u001b[0m\u001b[1;32m      4\u001b[0m \u001b[0;31m#print(data.isnull().sum())\u001b[0m\u001b[0;34m\u001b[0m\u001b[0;34m\u001b[0m\u001b[0;34m\u001b[0m\u001b[0m\n\u001b[1;32m      5\u001b[0m \u001b[0;31m#group = pd.DataFrame(data, columns=['SibSp', 'Parch'])\u001b[0m\u001b[0;34m\u001b[0m\u001b[0;34m\u001b[0m\u001b[0;34m\u001b[0m\u001b[0m\n",
            "\u001b[0;32m/usr/local/lib/python3.7/dist-packages/pandas/util/_decorators.py\u001b[0m in \u001b[0;36mwrapper\u001b[0;34m(*args, **kwargs)\u001b[0m\n\u001b[1;32m    309\u001b[0m                     \u001b[0mstacklevel\u001b[0m\u001b[0;34m=\u001b[0m\u001b[0mstacklevel\u001b[0m\u001b[0;34m,\u001b[0m\u001b[0;34m\u001b[0m\u001b[0;34m\u001b[0m\u001b[0m\n\u001b[1;32m    310\u001b[0m                 )\n\u001b[0;32m--> 311\u001b[0;31m             \u001b[0;32mreturn\u001b[0m \u001b[0mfunc\u001b[0m\u001b[0;34m(\u001b[0m\u001b[0;34m*\u001b[0m\u001b[0margs\u001b[0m\u001b[0;34m,\u001b[0m \u001b[0;34m**\u001b[0m\u001b[0mkwargs\u001b[0m\u001b[0;34m)\u001b[0m\u001b[0;34m\u001b[0m\u001b[0;34m\u001b[0m\u001b[0m\n\u001b[0m\u001b[1;32m    312\u001b[0m \u001b[0;34m\u001b[0m\u001b[0m\n\u001b[1;32m    313\u001b[0m         \u001b[0;32mreturn\u001b[0m \u001b[0mwrapper\u001b[0m\u001b[0;34m\u001b[0m\u001b[0;34m\u001b[0m\u001b[0m\n",
            "\u001b[0;32m/usr/local/lib/python3.7/dist-packages/pandas/io/parsers/readers.py\u001b[0m in \u001b[0;36mread_csv\u001b[0;34m(filepath_or_buffer, sep, delimiter, header, names, index_col, usecols, squeeze, prefix, mangle_dupe_cols, dtype, engine, converters, true_values, false_values, skipinitialspace, skiprows, skipfooter, nrows, na_values, keep_default_na, na_filter, verbose, skip_blank_lines, parse_dates, infer_datetime_format, keep_date_col, date_parser, dayfirst, cache_dates, iterator, chunksize, compression, thousands, decimal, lineterminator, quotechar, quoting, doublequote, escapechar, comment, encoding, encoding_errors, dialect, error_bad_lines, warn_bad_lines, on_bad_lines, delim_whitespace, low_memory, memory_map, float_precision, storage_options)\u001b[0m\n\u001b[1;32m    584\u001b[0m     \u001b[0mkwds\u001b[0m\u001b[0;34m.\u001b[0m\u001b[0mupdate\u001b[0m\u001b[0;34m(\u001b[0m\u001b[0mkwds_defaults\u001b[0m\u001b[0;34m)\u001b[0m\u001b[0;34m\u001b[0m\u001b[0;34m\u001b[0m\u001b[0m\n\u001b[1;32m    585\u001b[0m \u001b[0;34m\u001b[0m\u001b[0m\n\u001b[0;32m--> 586\u001b[0;31m     \u001b[0;32mreturn\u001b[0m \u001b[0m_read\u001b[0m\u001b[0;34m(\u001b[0m\u001b[0mfilepath_or_buffer\u001b[0m\u001b[0;34m,\u001b[0m \u001b[0mkwds\u001b[0m\u001b[0;34m)\u001b[0m\u001b[0;34m\u001b[0m\u001b[0;34m\u001b[0m\u001b[0m\n\u001b[0m\u001b[1;32m    587\u001b[0m \u001b[0;34m\u001b[0m\u001b[0m\n\u001b[1;32m    588\u001b[0m \u001b[0;34m\u001b[0m\u001b[0m\n",
            "\u001b[0;32m/usr/local/lib/python3.7/dist-packages/pandas/io/parsers/readers.py\u001b[0m in \u001b[0;36m_read\u001b[0;34m(filepath_or_buffer, kwds)\u001b[0m\n\u001b[1;32m    480\u001b[0m \u001b[0;34m\u001b[0m\u001b[0m\n\u001b[1;32m    481\u001b[0m     \u001b[0;31m# Create the parser.\u001b[0m\u001b[0;34m\u001b[0m\u001b[0;34m\u001b[0m\u001b[0;34m\u001b[0m\u001b[0m\n\u001b[0;32m--> 482\u001b[0;31m     \u001b[0mparser\u001b[0m \u001b[0;34m=\u001b[0m \u001b[0mTextFileReader\u001b[0m\u001b[0;34m(\u001b[0m\u001b[0mfilepath_or_buffer\u001b[0m\u001b[0;34m,\u001b[0m \u001b[0;34m**\u001b[0m\u001b[0mkwds\u001b[0m\u001b[0;34m)\u001b[0m\u001b[0;34m\u001b[0m\u001b[0;34m\u001b[0m\u001b[0m\n\u001b[0m\u001b[1;32m    483\u001b[0m \u001b[0;34m\u001b[0m\u001b[0m\n\u001b[1;32m    484\u001b[0m     \u001b[0;32mif\u001b[0m \u001b[0mchunksize\u001b[0m \u001b[0;32mor\u001b[0m \u001b[0miterator\u001b[0m\u001b[0;34m:\u001b[0m\u001b[0;34m\u001b[0m\u001b[0;34m\u001b[0m\u001b[0m\n",
            "\u001b[0;32m/usr/local/lib/python3.7/dist-packages/pandas/io/parsers/readers.py\u001b[0m in \u001b[0;36m__init__\u001b[0;34m(self, f, engine, **kwds)\u001b[0m\n\u001b[1;32m    809\u001b[0m             \u001b[0mself\u001b[0m\u001b[0;34m.\u001b[0m\u001b[0moptions\u001b[0m\u001b[0;34m[\u001b[0m\u001b[0;34m\"has_index_names\"\u001b[0m\u001b[0;34m]\u001b[0m \u001b[0;34m=\u001b[0m \u001b[0mkwds\u001b[0m\u001b[0;34m[\u001b[0m\u001b[0;34m\"has_index_names\"\u001b[0m\u001b[0;34m]\u001b[0m\u001b[0;34m\u001b[0m\u001b[0;34m\u001b[0m\u001b[0m\n\u001b[1;32m    810\u001b[0m \u001b[0;34m\u001b[0m\u001b[0m\n\u001b[0;32m--> 811\u001b[0;31m         \u001b[0mself\u001b[0m\u001b[0;34m.\u001b[0m\u001b[0m_engine\u001b[0m \u001b[0;34m=\u001b[0m \u001b[0mself\u001b[0m\u001b[0;34m.\u001b[0m\u001b[0m_make_engine\u001b[0m\u001b[0;34m(\u001b[0m\u001b[0mself\u001b[0m\u001b[0;34m.\u001b[0m\u001b[0mengine\u001b[0m\u001b[0;34m)\u001b[0m\u001b[0;34m\u001b[0m\u001b[0;34m\u001b[0m\u001b[0m\n\u001b[0m\u001b[1;32m    812\u001b[0m \u001b[0;34m\u001b[0m\u001b[0m\n\u001b[1;32m    813\u001b[0m     \u001b[0;32mdef\u001b[0m \u001b[0mclose\u001b[0m\u001b[0;34m(\u001b[0m\u001b[0mself\u001b[0m\u001b[0;34m)\u001b[0m\u001b[0;34m:\u001b[0m\u001b[0;34m\u001b[0m\u001b[0;34m\u001b[0m\u001b[0m\n",
            "\u001b[0;32m/usr/local/lib/python3.7/dist-packages/pandas/io/parsers/readers.py\u001b[0m in \u001b[0;36m_make_engine\u001b[0;34m(self, engine)\u001b[0m\n\u001b[1;32m   1038\u001b[0m             )\n\u001b[1;32m   1039\u001b[0m         \u001b[0;31m# error: Too many arguments for \"ParserBase\"\u001b[0m\u001b[0;34m\u001b[0m\u001b[0;34m\u001b[0m\u001b[0;34m\u001b[0m\u001b[0m\n\u001b[0;32m-> 1040\u001b[0;31m         \u001b[0;32mreturn\u001b[0m \u001b[0mmapping\u001b[0m\u001b[0;34m[\u001b[0m\u001b[0mengine\u001b[0m\u001b[0;34m]\u001b[0m\u001b[0;34m(\u001b[0m\u001b[0mself\u001b[0m\u001b[0;34m.\u001b[0m\u001b[0mf\u001b[0m\u001b[0;34m,\u001b[0m \u001b[0;34m**\u001b[0m\u001b[0mself\u001b[0m\u001b[0;34m.\u001b[0m\u001b[0moptions\u001b[0m\u001b[0;34m)\u001b[0m  \u001b[0;31m# type: ignore[call-arg]\u001b[0m\u001b[0;34m\u001b[0m\u001b[0;34m\u001b[0m\u001b[0m\n\u001b[0m\u001b[1;32m   1041\u001b[0m \u001b[0;34m\u001b[0m\u001b[0m\n\u001b[1;32m   1042\u001b[0m     \u001b[0;32mdef\u001b[0m \u001b[0m_failover_to_python\u001b[0m\u001b[0;34m(\u001b[0m\u001b[0mself\u001b[0m\u001b[0;34m)\u001b[0m\u001b[0;34m:\u001b[0m\u001b[0;34m\u001b[0m\u001b[0;34m\u001b[0m\u001b[0m\n",
            "\u001b[0;32m/usr/local/lib/python3.7/dist-packages/pandas/io/parsers/c_parser_wrapper.py\u001b[0m in \u001b[0;36m__init__\u001b[0;34m(self, src, **kwds)\u001b[0m\n\u001b[1;32m     49\u001b[0m \u001b[0;34m\u001b[0m\u001b[0m\n\u001b[1;32m     50\u001b[0m         \u001b[0;31m# open handles\u001b[0m\u001b[0;34m\u001b[0m\u001b[0;34m\u001b[0m\u001b[0;34m\u001b[0m\u001b[0m\n\u001b[0;32m---> 51\u001b[0;31m         \u001b[0mself\u001b[0m\u001b[0;34m.\u001b[0m\u001b[0m_open_handles\u001b[0m\u001b[0;34m(\u001b[0m\u001b[0msrc\u001b[0m\u001b[0;34m,\u001b[0m \u001b[0mkwds\u001b[0m\u001b[0;34m)\u001b[0m\u001b[0;34m\u001b[0m\u001b[0;34m\u001b[0m\u001b[0m\n\u001b[0m\u001b[1;32m     52\u001b[0m         \u001b[0;32massert\u001b[0m \u001b[0mself\u001b[0m\u001b[0;34m.\u001b[0m\u001b[0mhandles\u001b[0m \u001b[0;32mis\u001b[0m \u001b[0;32mnot\u001b[0m \u001b[0;32mNone\u001b[0m\u001b[0;34m\u001b[0m\u001b[0;34m\u001b[0m\u001b[0m\n\u001b[1;32m     53\u001b[0m \u001b[0;34m\u001b[0m\u001b[0m\n",
            "\u001b[0;32m/usr/local/lib/python3.7/dist-packages/pandas/io/parsers/base_parser.py\u001b[0m in \u001b[0;36m_open_handles\u001b[0;34m(self, src, kwds)\u001b[0m\n\u001b[1;32m    227\u001b[0m             \u001b[0mmemory_map\u001b[0m\u001b[0;34m=\u001b[0m\u001b[0mkwds\u001b[0m\u001b[0;34m.\u001b[0m\u001b[0mget\u001b[0m\u001b[0;34m(\u001b[0m\u001b[0;34m\"memory_map\"\u001b[0m\u001b[0;34m,\u001b[0m \u001b[0;32mFalse\u001b[0m\u001b[0;34m)\u001b[0m\u001b[0;34m,\u001b[0m\u001b[0;34m\u001b[0m\u001b[0;34m\u001b[0m\u001b[0m\n\u001b[1;32m    228\u001b[0m             \u001b[0mstorage_options\u001b[0m\u001b[0;34m=\u001b[0m\u001b[0mkwds\u001b[0m\u001b[0;34m.\u001b[0m\u001b[0mget\u001b[0m\u001b[0;34m(\u001b[0m\u001b[0;34m\"storage_options\"\u001b[0m\u001b[0;34m,\u001b[0m \u001b[0;32mNone\u001b[0m\u001b[0;34m)\u001b[0m\u001b[0;34m,\u001b[0m\u001b[0;34m\u001b[0m\u001b[0;34m\u001b[0m\u001b[0m\n\u001b[0;32m--> 229\u001b[0;31m             \u001b[0merrors\u001b[0m\u001b[0;34m=\u001b[0m\u001b[0mkwds\u001b[0m\u001b[0;34m.\u001b[0m\u001b[0mget\u001b[0m\u001b[0;34m(\u001b[0m\u001b[0;34m\"encoding_errors\"\u001b[0m\u001b[0;34m,\u001b[0m \u001b[0;34m\"strict\"\u001b[0m\u001b[0;34m)\u001b[0m\u001b[0;34m,\u001b[0m\u001b[0;34m\u001b[0m\u001b[0;34m\u001b[0m\u001b[0m\n\u001b[0m\u001b[1;32m    230\u001b[0m         )\n\u001b[1;32m    231\u001b[0m \u001b[0;34m\u001b[0m\u001b[0m\n",
            "\u001b[0;32m/usr/local/lib/python3.7/dist-packages/pandas/io/common.py\u001b[0m in \u001b[0;36mget_handle\u001b[0;34m(path_or_buf, mode, encoding, compression, memory_map, is_text, errors, storage_options)\u001b[0m\n\u001b[1;32m    705\u001b[0m                 \u001b[0mencoding\u001b[0m\u001b[0;34m=\u001b[0m\u001b[0mioargs\u001b[0m\u001b[0;34m.\u001b[0m\u001b[0mencoding\u001b[0m\u001b[0;34m,\u001b[0m\u001b[0;34m\u001b[0m\u001b[0;34m\u001b[0m\u001b[0m\n\u001b[1;32m    706\u001b[0m                 \u001b[0merrors\u001b[0m\u001b[0;34m=\u001b[0m\u001b[0merrors\u001b[0m\u001b[0;34m,\u001b[0m\u001b[0;34m\u001b[0m\u001b[0;34m\u001b[0m\u001b[0m\n\u001b[0;32m--> 707\u001b[0;31m                 \u001b[0mnewline\u001b[0m\u001b[0;34m=\u001b[0m\u001b[0;34m\"\"\u001b[0m\u001b[0;34m,\u001b[0m\u001b[0;34m\u001b[0m\u001b[0;34m\u001b[0m\u001b[0m\n\u001b[0m\u001b[1;32m    708\u001b[0m             )\n\u001b[1;32m    709\u001b[0m         \u001b[0;32melse\u001b[0m\u001b[0;34m:\u001b[0m\u001b[0;34m\u001b[0m\u001b[0;34m\u001b[0m\u001b[0m\n",
            "\u001b[0;31mFileNotFoundError\u001b[0m: [Errno 2] No such file or directory: 'titanic.csv'"
          ]
        }
      ]
    },
    {
      "cell_type": "code",
      "source": [
        "import numpy as np\n",
        "import pandas as pd\n",
        "data = pd.read_csv('anime.csv')\n",
        "print(\"*2*\")\n",
        "print(data.head(10))\n",
        "print(\"\\n*3*\")\n",
        "print(data.dtypes)\n",
        "print(\"\\n*4*\")\n",
        "data=data.replace({'Episodes': '?'}, {'Episodes': np.nan})\n",
        "headers=data[:0]\n",
        "for i in range(len(data.columns)):\n",
        "  data=data.rename(columns={data.columns[i] : data.columns[i].lower()})\n",
        "print(data)\n",
        "print(\"\\n*5*\")\n",
        "data['voters'] = [x.replace(',', '') for x in data['voters']]\n",
        "data[['episodes', 'rating','voters']]=data[['episodes', 'rating','voters']].astype(float)\n",
        "print(data[['episodes','rating','voters']].describe(percentiles=[.25, .75, .9])[1:])\n",
        "data1=pd.unique(data['production'])\n",
        "d=dict()\n",
        "for x in data['production']:\n",
        "  if x not in d:\n",
        "    d.update({x:1})\n",
        "  else:\n",
        "    d[x]+=1\n",
        "print(d)\n",
        "d=dict()\n",
        "for x in data['source']:\n",
        "  if x not in d:\n",
        "    d.update({x:1})\n",
        "  else:\n",
        "    d[x]+=1\n",
        "print(d)\n",
        "d=dict()\n",
        "for x in data['genre']:\n",
        "  buff=x.split(',')\n",
        "  for y in buff:\n",
        "    if y not in d:\n",
        "      d.update({y:1})\n",
        "    else:\n",
        "      d[y]+=1\n",
        "print(d)\n",
        "d=dict()\n",
        "for x in data['theme']:\n",
        "  buff=x.split(',')\n",
        "  for y in buff:\n",
        "    if y not in d:\n",
        "      d.update({y:1})\n",
        "    else:\n",
        "      d[y]+=1\n",
        "print(d)"
      ],
      "metadata": {
        "colab": {
          "base_uri": "https://localhost:8080/"
        },
        "id": "VFyeFIrQfiOH",
        "outputId": "febc4be2-f192-416a-ea11-3b6ae68dbbc1"
      },
      "execution_count": null,
      "outputs": [
        {
          "output_type": "stream",
          "name": "stdout",
          "text": [
            "*2*\n",
            "                              Title      Production Episodes       Source  \\\n",
            "0                Shingeki no Kyojin      Wit Studio       25        Manga   \n",
            "1  Fullmetal Alchemist: Brotherhood           Bones       64        Manga   \n",
            "2                  Sword Art Online    A-1 Pictures       25  Light novel   \n",
            "3                     One Punch Man        Madhouse       12    Web manga   \n",
            "4             Boku no Hero Academia           Bones       13        Manga   \n",
            "5                       Tokyo Ghoul  Studio Pierrot       12        Manga   \n",
            "6                            Naruto  Studio Pierrot      220        Manga   \n",
            "7            Hunter x Hunter (2011)        Madhouse      148        Manga   \n",
            "8                  Kimetsu no Yaiba        ufotable       26        Manga   \n",
            "9       Shingeki no Kyojin Season 2      Wit Studio       12        Manga   \n",
            "\n",
            "                                      Genre                   Airdate  Rating  \\\n",
            "0              Action,Drama,Fantasy,Mystery  Apr 7, 2013, 01:58 (JST)    8.52   \n",
            "1     Action,Adventure,Comedy,Drama,Fantasy  Apr 5, 2009, 17:00 (JST)    9.16   \n",
            "2          Action,Adventure,Fantasy,Romance  Jul 8, 2012, 00:00 (JST)    7.20   \n",
            "3         Action,Comedy,Sci-Fi,Supernatural  Oct 5, 2015, 01:05 (JST)    8.52   \n",
            "4                             Action,Comedy  Apr 3, 2016, 17:00 (JST)    7.98   \n",
            "5  Action,Drama,Horror,Mystery,Supernatural  Jul 4, 2014, 00:00 (JST)    7.80   \n",
            "6                   Action,Adventure,Comedy  Oct 3, 2002, 19:30 (JST)    7.95   \n",
            "7                  Action,Adventure,Fantasy  Oct 2, 2011, 10:55 (JST)    9.06   \n",
            "8                       Action,Supernatural  Apr 6, 2019, 23:30 (JST)    8.57   \n",
            "9              Action,Drama,Fantasy,Mystery  Apr 1, 2017, 22:00 (JST)    8.49   \n",
            "\n",
            "      Voters                     Theme  \n",
            "0  3,142,121      Military,Super Power  \n",
            "1  2,676,911                  Military  \n",
            "2  2,586,628                      Game  \n",
            "3  2,583,068        Parody,Super Power  \n",
            "4  2,426,309        School,Super Power  \n",
            "5  2,315,361             Psychological  \n",
            "6  2,289,448  Martial Arts,Super Power  \n",
            "7  2,152,116               Super Power  \n",
            "8  2,112,029         Demons,Historical  \n",
            "9  2,086,165      Military,Super Power  \n",
            "\n",
            "*3*\n",
            "Title          object\n",
            "Production     object\n",
            "Episodes       object\n",
            "Source         object\n",
            "Genre          object\n",
            "Airdate        object\n",
            "Rating        float64\n",
            "Voters         object\n",
            "Theme          object\n",
            "dtype: object\n",
            "\n",
            "*4*\n",
            "                                                  title      production  \\\n",
            "0                                    Shingeki no Kyojin      Wit Studio   \n",
            "1                      Fullmetal Alchemist: Brotherhood           Bones   \n",
            "2                                      Sword Art Online    A-1 Pictures   \n",
            "3                                         One Punch Man        Madhouse   \n",
            "4                                 Boku no Hero Academia           Bones   \n",
            "...                                                 ...             ...   \n",
            "1987                                 Dog Days' Specials      Seven Arcs   \n",
            "1988                             Bleach: Gotei 13 Omake               -   \n",
            "1989                                       Brain Powerd         Sunrise   \n",
            "1990  Mobile Suit Gundam: Iron-Blooded Orphans - Urð...  Sunrise Beyond   \n",
            "1991                                   Burn Up Scramble     AIC Spirits   \n",
            "\n",
            "     episodes       source                                  genre  \\\n",
            "0          25        Manga           Action,Drama,Fantasy,Mystery   \n",
            "1          64        Manga  Action,Adventure,Comedy,Drama,Fantasy   \n",
            "2          25  Light novel       Action,Adventure,Fantasy,Romance   \n",
            "3          12    Web manga      Action,Comedy,Sci-Fi,Supernatural   \n",
            "4          13        Manga                          Action,Comedy   \n",
            "...       ...          ...                                    ...   \n",
            "1987       13            -               Action,Adventure,Fantasy   \n",
            "1988        1        Manga                       Action,Adventure   \n",
            "1989       26     Original                Action,Adventure,Sci-Fi   \n",
            "1990      NaN     Original                    Action,Drama,Sci-Fi   \n",
            "1991       12     Original       Action,Comedy,Drama,Sci-Fi,Ecchi   \n",
            "\n",
            "                       airdate  rating     voters                 theme  \n",
            "0     Apr 7, 2013, 01:58 (JST)    8.52  3,142,121  Military,Super Power  \n",
            "1     Apr 5, 2009, 17:00 (JST)    9.16  2,676,911              Military  \n",
            "2     Jul 8, 2012, 00:00 (JST)    7.20  2,586,628                  Game  \n",
            "3     Oct 5, 2015, 01:05 (JST)    8.52  2,583,068    Parody,Super Power  \n",
            "4     Apr 3, 2016, 17:00 (JST)    7.98  2,426,309    School,Super Power  \n",
            "...                        ...     ...        ...                   ...  \n",
            "1987                       NaN    6.66      8,687                     -  \n",
            "1988                       NaN    6.49      8,682                     -  \n",
            "1989               Apr 8, 1998    6.10      8,678                 Mecha  \n",
            "1990                       NaN     NaN      8,665           Mecha,Space  \n",
            "1991              Jan 12, 2004    6.19      8,662                Police  \n",
            "\n",
            "[1992 rows x 9 columns]\n",
            "\n",
            "*5*\n",
            "        episodes    rating        voters\n",
            "mean   14.975245  7.150849  1.643311e+05\n",
            "std    28.116711  0.709454  3.135926e+05\n",
            "min     1.000000  2.960000  8.662000e+03\n",
            "25%     1.000000  6.720000  2.126500e+04\n",
            "50%    12.000000  7.210000  5.478550e+04\n",
            "75%    13.000000  7.590000  1.585070e+05\n",
            "90%    26.000000  8.030000  4.041658e+05\n",
            "max   500.000000  9.160000  3.142121e+06\n",
            "{'Wit Studio': 27, 'Bones': 73, 'A-1 Pictures': 78, 'Madhouse': 83, 'Studio Pierrot': 68, 'ufotable': 33, 'Sunrise': 125, 'P.A. Works': 7, 'asread.': 11, 'White Fox': 14, 'Toei Animation': 130, 'Lerche': 19, 'MAPPA': 24, 'Trigger': 14, 'Gainax': 19, 'Production I.G': 72, 'Arms': 29, 'J.C.Staff': 58, 'David Production': 18, \"Brain's Base\": 21, 'Kinema Citrus': 9, 'Manglobe': 10, '8bit': 25, 'Studio Ghibli': 2, 'Satelight': 28, 'Pierrot Plus': 9, 'Science SARU': 1, 'Studio Deen': 62, 'TNK': 7, 'Graphinica': 9, 'Nexus': 4, 'LIDENFILMS': 20, 'Nut': 6, 'Seven Arcs Pictures': 10, 'Telecom Animation Film': 10, 'GoHands': 16, 'Tokyo Movie Shinsha': 15, 'TMS Entertainment': 45, 'Gonzo': 48, 'Shuka': 9, 'Tatsunoko Production': 13, 'Production IMS': 10, 'Connect': 10, 'Passione': 5, 'OLM': 49, 'SILVER LINK.': 21, 'Diomedéa': 11, 'Polygon Pictures': 17, 'Studio 3Hz': 3, 'Artland': 11, 'Nippon Animation': 9, 'Bandai Namco Pictures': 10, 'Hoods Drifters Studio': 4, 'Kyoto Animation': 10, 'Khara': 5, 'Gallop': 12, 'TROYCA': 1, 'Lay-duce': 6, 'Shaft': 10, 'Pine Jam': 1, 'Seven Arcs': 12, 'Orange': 2, 'DR Movie': 2, 'Xebec': 33, 'Ordet': 2, 'B.CMAY PICTURES': 4, 'GEMBA': 5, 'Bee Train': 9, 'GEEK TOYS': 3, 'A.C.G.T.': 17, 'Hoods Entertainment': 5, 'Millepensee': 2, 'Geno Studio': 6, 'Ajia-Do': 4, 'Zexcs': 6, 'Okuruto Noboru': 2, 'Nomad': 6, 'Actas': 7, 'AIC Spirits': 10, 'Encourage Films': 5, 'AIC ASTA': 4, 'Asahi Production': 4, 'Doga Kobo': 10, 'Platinum Vision': 5, 'CloverWorks': 6, 'C2C': 2, 'SynergySP': 4, 'Maho Film': 1, 'Zero-G': 4, 'Square Enix': 2, 'CygamesPictures': 2, 'Studio 4°C': 9, 'EKACHI EPILKA': 1, '-': 39, 'Studio Colorido': 1, 'Shin-Ei Animation': 1, 'ENGI': 1, 'Pastel': 4, 'Namu Animation': 1, 'Trans Arts': 3, 'Bridge': 5, 'NAZ': 2, 'SANZIGEN': 6, \"Children's Playground Entertainment\": 1, 'Bibury Animation Studios': 3, 'XEBEC M2': 1, 'Production GoodBook': 2, 'Lapin Track': 1, 'feel.': 3, 'Larx Entertainment': 2, 'Project No.9': 5, 'Signal.MD': 2, 'Shanghai Foch Film and TV Culture Investment': 5, 'Studio Gokumi': 2, 'ixtl': 2, 'AIC': 27, 'Studio VOLN': 2, 'Group TAC': 10, 'Creators in Pack': 1, 'Colored Pencil Animation': 3, 'China Literature Limited': 1, 'Digital Frontier': 5, 'Barnum Studio': 2, 'AXsiZ': 2, 'Bakken Record': 1, 'Haoliners Animation League': 6, 'Tsuchida Productions': 1, 'Production Reed': 6, 'Studio PuYUKAI': 5, 'Mushi Production': 3, 'Visual Flight': 1, 'A-Real': 1, 'Blade': 1, 'l-a-unch・BOX': 1, 'LandQ studios': 1, 'DLE': 2, 'Studio Hibari': 2, 'domerica': 2, 'APPP': 3, 'Minami Machi Bugyousho': 1, 'Shirogumi': 1, 'M.S.C': 6, 'Marza Animation Planet': 3, 'Studio Animal': 1, 'Kamikaze Douga': 1, 'Fifth Avenue': 1, 'Hal Film Maker': 4, 'G&G Entertainment': 1, 'Anima&Co.': 1, 'Nakamura Production': 1, 'The Answer Studio': 1, 'Nice Boat Animation': 1, 'View Works': 1, 'Think Corporation': 1, 'DandeLion Animation Studio': 2, 'L²Studio': 1, 'Yumeta Company': 1, 'Yokohama Animation Lab': 1, 'CyberConnect2': 1, 'Studio A-CAT': 2, 'Artmic': 2, 'Studio Fantasia': 5, 'Kitty Film Mitaka Studio': 1, 'Studio Kai': 1, 'Studio Junio': 2, 'Anima': 2, 'Tokyo Kids': 1, 'Studio Comet': 4, 'Anpro': 2, 'TAKI Corporation': 1, 'Craftar Studios': 1, 'Studio Flag': 1, 'CoMix Wave Films': 1, 'FLAGSHIP LINE': 1, 'Phoenix Entertainment': 1, 'Front Line': 1, 'Tezuka Productions': 4, 'Picture Magic': 1, 'Studio Ponoc': 1, 'Ashi Production': 3, 'I.Gzwei': 2, 'HORNETS': 1, 'Sparkly Key Animation Studio': 2, 'Sublimation': 2, 'animate Film': 2, 'Chaos Project': 1, 'Ishimori Entertainment': 1, 'Oxybot': 2, 'Picograph': 1, 'Sunrise Beyond': 2, 'Magic Bus': 6, 'OLM Digital': 1, 'Sola Digital Arts': 1, 'FILMONY': 1, 'Gambit': 1, 'KJJ Animation': 1, 'Ankama Animations': 1, 'BigFireBird Animation': 2, 'Beat Frog': 1, 'D.A.S.T.': 1, 'Filmlink International': 1, 'TriF Studio': 1, 'Triangle Staff': 3, 'Shogakukan Music & Digital Entertainment': 1, 'Plum': 2, 'Zero-G Room': 1, 'Bee Media': 1, 'Amber Film Works': 1, 'Knack Productions': 1, 'Arcs Create': 1, 'Ruo Hong Culture': 1, 'Radix': 2, 'Bibury Animation CG': 1, 'Asatsu DK': 1, 'Studio Blanc': 1, 'Next Media Animation': 1, 'Quebico': 1, 'Planet': 1, 'October Media': 1, 'Jumonji': 1, 'AIC PLUS+': 1, 'OZ': 1, 'Studio 88': 1, 'Vega Entertainment': 1}\n",
            "{'Manga': 818, 'Light novel': 263, 'Web manga': 32, 'Original': 468, 'Visual novel': 51, 'Game': 201, 'Novel': 61, 'Card game': 9, 'Other': 48, '-': 39, 'Book': 1, 'Picture book': 1}\n",
            "{'Action': 1992, 'Drama': 447, 'Fantasy': 711, 'Mystery': 187, 'Adventure': 620, 'Comedy': 645, 'Romance': 225, 'Sci-Fi': 610, 'Supernatural': 454, 'Horror': 109, 'Suspense': 29, 'Slice of Life': 29, 'Ecchi': 173, 'Avant Garde': 10, 'Sports': 59, 'Gourmet': 5, 'Girls Love': 11, 'Boys Love': 9, 'Work Life': 1}\n",
            "{'Military': 224, 'Super Power': 311, 'Game': 76, 'Parody': 45, 'School': 185, 'Psychological': 69, 'Martial Arts': 141, 'Demons': 131, 'Historical': 148, 'Mecha': 277, 'Shounen': 179, 'Crunchyroll': 11, 'Funimation': 90, 'Space': 118, 'Police': 63, 'Aniplex of America': 45, 'Sentai Filmworks': 40, 'Vampire': 58, 'Samurai': 73, 'GKIDS': 3, 'Geneon Entertainment USA': 2, 'Seinen': 66, 'Harem': 82, 'Shoujo': 19, 'Ponycan USA': 3, 'Kids': 43, 'VIZ Media': 2, '-': 134, 'Music': 28, 'Cars': 16, 'Bandai Entertainment': 5, 'Josei': 3, 'Discotek Media': 15, 'ADV Films': 11, 'Media Blasters': 7, 'Tokyopop': 1, 'Shout! Factory': 4, 'Warner Bros. Japan': 1, 'AnimEigo': 1, 'Maiden Japan': 2, 'Netflix': 2, 'NYAV Post': 2, 'Manga Entertainment': 3, 'Central Park Media': 7, 'bilibili': 1, 'OLM Digital': 1, 'Nozomi Entertainment': 1, 'Anchor Bay Films': 1, 'Urban Vision': 1, 'Flatiron Film Company': 1}\n"
          ]
        }
      ]
    }
  ],
  "metadata": {
    "colab": {
      "name": "Пакеты",
      "provenance": [],
      "collapsed_sections": [],
      "authorship_tag": "ABX9TyMHOasiAkCirvbh50g6KEUU",
      "include_colab_link": true
    },
    "kernelspec": {
      "display_name": "Python 3",
      "name": "python3"
    },
    "language_info": {
      "name": "python"
    }
  },
  "nbformat": 4,
  "nbformat_minor": 0
}